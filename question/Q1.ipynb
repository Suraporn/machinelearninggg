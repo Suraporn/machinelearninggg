{
 "cells": [
  {
   "cell_type": "markdown",
   "id": "12c07e83-7aba-40c0-8731-3ccdf1231261",
   "metadata": {},
   "source": [
    "# Let's think !!\n",
    "---"
   ]
  },
  {
   "cell_type": "markdown",
   "id": "eb79e5d5-6d1d-4baf-83b2-fcf6928cac73",
   "metadata": {},
   "source": [
    "<img src=\"pic/q1.png\" width=\"700\">"
   ]
  },
  {
   "cell_type": "markdown",
   "id": "19921196-c25c-4367-9d7b-66bb31d4e286",
   "metadata": {},
   "source": [
    "## Question1"
   ]
  },
  {
   "cell_type": "markdown",
   "id": "49063b68-0cf2-4119-bb52-5fabe171441c",
   "metadata": {},
   "source": [
    "ปกติเราจะเคยชินหรือรู้อยู่แล้วว่าเราควรจะ scale data ก่อน train model กันเนอะ\n",
    "\n",
    "แต่จริงๆแล้วมันจำเป็นมั้ยที่ต้อง scaling data เพราะถ้ามันไม่ได้จำเป็นเราก็เสียเวลา compute เปล่าๆนะ \n",
    "\n",
    "เรามาลองคิดกันดีกว่าว่าจริงๆแล้วเราจำเป็นต้อง scaling data ไหม เพราะอะไร ^^"
   ]
  },
  {
   "cell_type": "markdown",
   "id": "dbada5d1-0fa7-4743-b5cf-f6a55833314c",
   "metadata": {},
   "source": [
    "สมมติว่า ...\n",
    "\n",
    "เรามีโจทย์เป็น Regression problem และเรามี model อยู่ 2 ตัวคือ KNN กับ Decision Tree\n",
    "\n",
    "คำถาม ??\n"
   ]
  },
  {
   "cell_type": "markdown",
   "id": "fa614438-2121-4903-b619-e68af9ff46bb",
   "metadata": {
    "tags": []
   },
   "source": [
    "### Q1. Model ไหนที่เราต้อง Scaling และ model ไหนที่เราไม่จำเป็นต้อง Scaling"
   ]
  },
  {
   "cell_type": "code",
   "execution_count": 2,
   "id": "bf481301-0058-4c5c-911b-b50a31e6b6c9",
   "metadata": {},
   "outputs": [
    {
     "data": {
      "text/plain": [
       "Ellipsis"
      ]
     },
     "execution_count": 2,
     "metadata": {},
     "output_type": "execute_result"
    }
   ],
   "source": [
    "..."
   ]
  },
  {
   "cell_type": "markdown",
   "id": "2a44d590-1cfe-4807-8ff9-c947fa3da06a",
   "metadata": {
    "tags": []
   },
   "source": [
    "### Q2. เพราะอะไร?"
   ]
  },
  {
   "cell_type": "code",
   "execution_count": 3,
   "id": "14643408-b456-412e-b51f-99db6fa89b2e",
   "metadata": {},
   "outputs": [
    {
     "data": {
      "text/plain": [
       "Ellipsis"
      ]
     },
     "execution_count": 3,
     "metadata": {},
     "output_type": "execute_result"
    }
   ],
   "source": [
    "..."
   ]
  },
  {
   "cell_type": "markdown",
   "id": "7316d029-85ae-455a-951f-9f5f31153841",
   "metadata": {},
   "source": [
    "<img src=\"pic/q.png\" width=\"400\">"
   ]
  }
 ],
 "metadata": {
  "kernelspec": {
   "display_name": "Python [conda env:573]",
   "language": "python",
   "name": "conda-env-573-py"
  },
  "language_info": {
   "codemirror_mode": {
    "name": "ipython",
    "version": 3
   },
   "file_extension": ".py",
   "mimetype": "text/x-python",
   "name": "python",
   "nbconvert_exporter": "python",
   "pygments_lexer": "ipython3",
   "version": "3.10.6"
  }
 },
 "nbformat": 4,
 "nbformat_minor": 5
}
